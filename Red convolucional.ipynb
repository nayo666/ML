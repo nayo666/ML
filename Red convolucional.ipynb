{
 "cells": [
  {
   "cell_type": "code",
   "execution_count": 22,
   "metadata": {},
   "outputs": [],
   "source": [
    "import keras\n",
    "from keras import models\n",
    "from keras import layers\n",
    "from keras.optimizers import SGD\n",
    "import matplotlib.pyplot as plt\n",
    "from sklearn.metrics import classification_report\n",
    "import numpy as np\n",
    "from keras.datasets import cifar10\n",
    "from keras.utils import to_categorical"
   ]
  },
  {
   "cell_type": "markdown",
   "metadata": {},
   "source": [
    "### Datos"
   ]
  },
  {
   "cell_type": "code",
   "execution_count": 23,
   "metadata": {},
   "outputs": [
    {
     "name": "stdout",
     "output_type": "stream",
     "text": [
      "(50000, 32, 32, 3) (50000, 1) (10000, 32, 32, 3) (10000, 1)\n"
     ]
    }
   ],
   "source": [
    "(X, y), (test_images, test_labels) = cifar10.load_data()\n",
    "print(X.shape, y.shape,test_images.shape,test_labels.shape)"
   ]
  },
  {
   "cell_type": "markdown",
   "metadata": {},
   "source": [
    "### Procesamiento de datos"
   ]
  },
  {
   "cell_type": "code",
   "execution_count": 24,
   "metadata": {},
   "outputs": [],
   "source": [
    "train_images = X.astype('float32')[0:40000] / 255\n",
    "val_images = X.astype('float32')[40000: 50000] / 255\n",
    "test_images = test_images.astype('float32')[0:10000] / 255"
   ]
  },
  {
   "cell_type": "code",
   "execution_count": 25,
   "metadata": {},
   "outputs": [],
   "source": [
    "train_labels = to_categorical(y[0:40000])\n",
    "val_labels = to_categorical(y[40000:50000])\n",
    "test_labels = to_categorical(test_labels[0:10000])"
   ]
  },
  {
   "cell_type": "code",
   "execution_count": 26,
   "metadata": {},
   "outputs": [
    {
     "name": "stdout",
     "output_type": "stream",
     "text": [
      "(40000, 10) (10000, 10) (10000, 10)\n"
     ]
    }
   ],
   "source": [
    "print(train_labels.shape, val_labels.shape,test_labels.shape)"
   ]
  },
  {
   "cell_type": "markdown",
   "metadata": {},
   "source": [
    "### Red convolucional"
   ]
  },
  {
   "cell_type": "code",
   "execution_count": 27,
   "metadata": {},
   "outputs": [
    {
     "name": "stdout",
     "output_type": "stream",
     "text": [
      "Model: \"sequential_2\"\n",
      "_________________________________________________________________\n",
      "Layer (type)                 Output Shape              Param #   \n",
      "=================================================================\n",
      "conv2d_4 (Conv2D)            (None, 32, 32, 32)        896       \n",
      "_________________________________________________________________\n",
      "max_pooling2d_4 (MaxPooling2 (None, 16, 16, 32)        0         \n",
      "_________________________________________________________________\n",
      "conv2d_5 (Conv2D)            (None, 16, 16, 32)        9248      \n",
      "_________________________________________________________________\n",
      "max_pooling2d_5 (MaxPooling2 (None, 8, 8, 32)          0         \n",
      "_________________________________________________________________\n",
      "conv2d_6 (Conv2D)            (None, 8, 8, 64)          18496     \n",
      "_________________________________________________________________\n",
      "max_pooling2d_6 (MaxPooling2 (None, 4, 4, 64)          0         \n",
      "_________________________________________________________________\n",
      "flatten_2 (Flatten)          (None, 1024)              0         \n",
      "_________________________________________________________________\n",
      "dense_2 (Dense)              (None, 10)                10250     \n",
      "=================================================================\n",
      "Total params: 38,890\n",
      "Trainable params: 38,890\n",
      "Non-trainable params: 0\n",
      "_________________________________________________________________\n"
     ]
    }
   ],
   "source": [
    "model = models.Sequential()\n",
    "model.add(layers.Conv2D(32, (3, 3), activation='relu', padding='same', input_shape=(32, 32, 3)))\n",
    "model.add(layers.MaxPooling2D((2, 2)))\n",
    "model.add(layers.Conv2D(32, (3, 3), activation='relu', padding='same'))\n",
    "model.add(layers.MaxPooling2D((2, 2)))\n",
    "model.add(layers.Conv2D(64, (3, 3), activation='relu', padding='same'))\n",
    "model.add(layers.MaxPooling2D((2, 2)))\n",
    "model.add(layers.Flatten())\n",
    "model.add(layers.Dense(10, activation='softmax'))\n",
    "model.summary()"
   ]
  },
  {
   "cell_type": "code",
   "execution_count": 28,
   "metadata": {},
   "outputs": [],
   "source": [
    "optimizer = SGD(lr=.01,momentum=0.1, nesterov=True)\n",
    "model.compile(optimizer=optimizer,\n",
    "              loss='categorical_crossentropy',\n",
    "              metrics=['accuracy'])"
   ]
  },
  {
   "cell_type": "code",
   "execution_count": 29,
   "metadata": {},
   "outputs": [
    {
     "name": "stdout",
     "output_type": "stream",
     "text": [
      "Train on 40000 samples, validate on 10000 samples\n",
      "Epoch 1/10\n",
      "40000/40000 [==============================] - 44s 1ms/step - loss: 1.8013 - accuracy: 0.3497 - val_loss: 1.5086 - val_accuracy: 0.4583\n",
      "Epoch 2/10\n",
      "40000/40000 [==============================] - 35s 874us/step - loss: 1.3698 - accuracy: 0.5113 - val_loss: 1.2548 - val_accuracy: 0.5583\n",
      "Epoch 3/10\n",
      "40000/40000 [==============================] - 38s 939us/step - loss: 1.1750 - accuracy: 0.5874 - val_loss: 1.2276 - val_accuracy: 0.5671\n",
      "Epoch 4/10\n",
      "40000/40000 [==============================] - 35s 874us/step - loss: 1.0590 - accuracy: 0.6313 - val_loss: 1.1203 - val_accuracy: 0.6173\n",
      "Epoch 5/10\n",
      "40000/40000 [==============================] - 32s 807us/step - loss: 0.9791 - accuracy: 0.6607 - val_loss: 1.0075 - val_accuracy: 0.6482\n",
      "Epoch 6/10\n",
      "40000/40000 [==============================] - 36s 888us/step - loss: 0.9104 - accuracy: 0.6842 - val_loss: 1.0020 - val_accuracy: 0.6569\n",
      "Epoch 7/10\n",
      "40000/40000 [==============================] - 35s 884us/step - loss: 0.8574 - accuracy: 0.7020 - val_loss: 0.9455 - val_accuracy: 0.6783\n",
      "Epoch 8/10\n",
      "40000/40000 [==============================] - 39s 982us/step - loss: 0.8099 - accuracy: 0.7204 - val_loss: 0.9858 - val_accuracy: 0.6727\n",
      "Epoch 9/10\n",
      "40000/40000 [==============================] - 32s 806us/step - loss: 0.7681 - accuracy: 0.7333 - val_loss: 0.9140 - val_accuracy: 0.6941\n",
      "Epoch 10/10\n",
      "40000/40000 [==============================] - 37s 935us/step - loss: 0.7305 - accuracy: 0.7476 - val_loss: 0.8929 - val_accuracy: 0.6979\n"
     ]
    }
   ],
   "source": [
    "history = model.fit(train_images, train_labels, validation_data=(val_images, val_labels), epochs=10, batch_size=8)"
   ]
  },
  {
   "cell_type": "markdown",
   "metadata": {},
   "source": [
    "### Graficas de perdida y presición de entrenamiento"
   ]
  },
  {
   "cell_type": "code",
   "execution_count": 30,
   "metadata": {},
   "outputs": [
    {
     "data": {
      "image/png": "[encoded data removed]",
      "text/plain": [
       "<Figure size 432x288 with 1 Axes>"
      ]
     },
     "metadata": {
      "needs_background": "light"
     },
     "output_type": "display_data"
    }
   ],
   "source": [
    "history_dict = history.history\n",
    "loss_values = history_dict['loss']\n",
    "val_loss_values = history_dict['val_loss']\n",
    "epochs = range(1, len(loss_values) + 1)\n",
    "plt.plot(epochs, loss_values, 'bo-', label='Training loss')\n",
    "plt.plot(epochs, val_loss_values, 'ro-', label='Validation loss')\n",
    "plt.title('Training and validation loss')\n",
    "plt.xlabel('Epochs')\n",
    "plt.ylabel('Loss')\n",
    "plt.legend()\n",
    "plt.show()"
   ]
  },
  {
   "cell_type": "code",
   "execution_count": 31,
   "metadata": {},
   "outputs": [
    {
     "data": {
      "image/png": "[encoded data removed]",
      "text/plain": [
       "<Figure size 432x288 with 1 Axes>"
      ]
     },
     "metadata": {
      "needs_background": "light"
     },
     "output_type": "display_data"
    }
   ],
   "source": [
    "acc_values = history_dict['accuracy']\n",
    "val_acc_values = history_dict['val_accuracy']\n",
    "plt.plot(epochs, acc_values, 'bo-', label='Training acc')\n",
    "plt.plot(epochs, val_acc_values, 'ro-', label='Validation acc')\n",
    "plt.title('Training and validation accuracy')\n",
    "plt.xlabel('Epochs')\n",
    "plt.ylabel('Accuracy')\n",
    "plt.legend()\n",
    "plt.show()"
   ]
  },
  {
   "cell_type": "markdown",
   "metadata": {},
   "source": [
    "### Resultados"
   ]
  },
  {
   "cell_type": "code",
   "execution_count": 32,
   "metadata": {},
   "outputs": [
    {
     "name": "stdout",
     "output_type": "stream",
     "text": [
      "              precision    recall  f1-score   support\n",
      "\n",
      "           0       0.77      0.69      0.73      1000\n",
      "           1       0.84      0.81      0.82      1000\n",
      "           2       0.65      0.49      0.56      1000\n",
      "           3       0.52      0.52      0.52      1000\n",
      "           4       0.58      0.73      0.65      1000\n",
      "           5       0.67      0.57      0.61      1000\n",
      "           6       0.68      0.85      0.76      1000\n",
      "           7       0.76      0.73      0.75      1000\n",
      "           8       0.83      0.81      0.82      1000\n",
      "           9       0.74      0.80      0.77      1000\n",
      "\n",
      "    accuracy                           0.70     10000\n",
      "   macro avg       0.70      0.70      0.70     10000\n",
      "weighted avg       0.70      0.70      0.70     10000\n",
      "\n"
     ]
    }
   ],
   "source": [
    "pred = model.predict(test_images)\n",
    "print(classification_report(np.argmax(test_labels, axis=1), np.argmax(pred, axis=1)))"
   ]
  },
  {
   "cell_type": "code",
   "execution_count": null,
   "metadata": {},
   "outputs": [],
   "source": []
  }
 ],
 "metadata": {
  "kernelspec": {
   "display_name": "Python 3 (ipykernel)",
   "language": "python",
   "name": "python3"
  },
  "language_info": {
   "codemirror_mode": {
    "name": "ipython",
    "version": 3
   },
   "file_extension": ".py",
   "mimetype": "text/x-python",
   "name": "python",
   "nbconvert_exporter": "python",
   "pygments_lexer": "ipython3",
   "version": "3.9.7"
  }
 },
 "nbformat": 4,
 "nbformat_minor": 4
}
