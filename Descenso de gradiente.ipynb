{
 "cells": [
  {
   "cell_type": "markdown",
   "metadata": {},
   "source": [
    "Leonardo Coronado Arvayo"
   ]
  },
  {
   "cell_type": "markdown",
   "metadata": {},
   "source": [
    "# Descenso de gradiente"
   ]
  },
  {
   "cell_type": "code",
   "execution_count": 271,
   "metadata": {},
   "outputs": [],
   "source": [
    "import pandas as pd\n",
    "import matplotlib.pyplot as plt\n",
    "import numpy as np\n",
    "from sklearn.preprocessing import MinMaxScaler\n",
    "from sklearn.metrics import mean_squared_error"
   ]
  },
  {
   "cell_type": "markdown",
   "metadata": {},
   "source": [
    "## Crear datos"
   ]
  },
  {
   "cell_type": "code",
   "execution_count": 272,
   "metadata": {},
   "outputs": [],
   "source": [
    "data = pd.read_csv(\"/home/noxd/Doc/Machine Learning/datos/fish_market/Fish.csv\", header=0)"
   ]
  },
  {
   "cell_type": "code",
   "execution_count": 273,
   "metadata": {},
   "outputs": [
    {
     "data": {
      "text/plain": [
       "(56, 8)"
      ]
     },
     "execution_count": 273,
     "metadata": {},
     "output_type": "execute_result"
    }
   ],
   "source": [
    "data[\"one\"] = 1\n",
    "data_B = data.loc[data['Species'] == \"Perch\"]\n",
    "data_B.shape"
   ]
  },
  {
   "cell_type": "code",
   "execution_count": 274,
   "metadata": {},
   "outputs": [
    {
     "data": {
      "text/plain": [
       "((56, 6), (56, 1))"
      ]
     },
     "execution_count": 274,
     "metadata": {},
     "output_type": "execute_result"
    }
   ],
   "source": [
    "x = data_B[[ \"one\",\"Length1\", \"Length2\", \"Length3\", \"Height\", \"Width\"]].to_numpy()\n",
    "y = data_B[\"Weight\"].to_numpy()\n",
    "y= np.reshape(y, (56, 1))\n",
    "x.shape, y.shape"
   ]
  },
  {
   "cell_type": "code",
   "execution_count": 275,
   "metadata": {},
   "outputs": [],
   "source": [
    "def x_ext(x, order):\n",
    "    \"\"\"El primer elemento es el 1 extra.\"\"\"\n",
    "    \n",
    "    x_ex = [1]\n",
    "    for c in x[1:]:\n",
    "        for i in range(1, order + 1):\n",
    "            x_ex.append(c**i)\n",
    "    return np.array(x_ex)\n",
    "\n",
    "\n",
    "def X_ext(X, order):\n",
    "    X_ex = np.zeros((len(X), 1 + (len(X[0]) - 1) * order))\n",
    "    for i, x in enumerate(X):\n",
    "        X_ex[i] = x_ext(x, order)\n",
    "    return X_ex\n",
    "\n",
    "\n",
    "def x_ext2(x, order):\n",
    "    X = []\n",
    "    for i in range(order + 1):\n",
    "        X.append(x**i)\n",
    "    return np.array(X)"
   ]
  },
  {
   "cell_type": "markdown",
   "metadata": {},
   "source": [
    "# Orden 2"
   ]
  },
  {
   "cell_type": "code",
   "execution_count": 276,
   "metadata": {
    "scrolled": true
   },
   "outputs": [
    {
     "data": {
      "text/plain": [
       "(56, 11)"
      ]
     },
     "execution_count": 276,
     "metadata": {},
     "output_type": "execute_result"
    }
   ],
   "source": [
    "X = X_ext(x, 2)\n",
    "orden=2\n",
    "X.shape"
   ]
  },
  {
   "cell_type": "markdown",
   "metadata": {},
   "source": [
    "### Descenso de gradiente (sin rescalar)"
   ]
  },
  {
   "cell_type": "code",
   "execution_count": 277,
   "metadata": {},
   "outputs": [],
   "source": [
    "epochs = 8000\n",
    "lr = .0000001\n",
    "W = np.zeros((X.shape[1], 1))\n",
    "m=X.shape[0]"
   ]
  },
  {
   "cell_type": "code",
   "execution_count": 278,
   "metadata": {},
   "outputs": [],
   "source": [
    "for i in range(epochs):\n",
    "    prev = W\n",
    "    Y = np.matmul(X, W)\n",
    "    D_j = (sum((Y - y) * X).reshape(X.shape[1], 1) / m)\n",
    "    W = prev - (lr * D_j)\n",
    "    \n",
    "    diff = np.linalg.norm(prev - W)\n",
    "    if (diff > 100):\n",
    "        print(\"Muy grande\", i)\n",
    "        break\n",
    "    if (diff < .00001):\n",
    "        print(\"Convergió.\", i)\n",
    "        break"
   ]
  },
  {
   "cell_type": "markdown",
   "metadata": {},
   "source": [
    "### Decenso de gradiente rescalada (0-1)"
   ]
  },
  {
   "cell_type": "code",
   "execution_count": 279,
   "metadata": {},
   "outputs": [
    {
     "data": {
      "text/plain": [
       "(56, 11)"
      ]
     },
     "execution_count": 279,
     "metadata": {},
     "output_type": "execute_result"
    }
   ],
   "source": [
    "scaler = MinMaxScaler()\n",
    "X_s = scaler.fit_transform(x)\n",
    "y_s = scaler.fit_transform(y)\n",
    "S = X_ext(X_s, orden)\n",
    "S.shape"
   ]
  },
  {
   "cell_type": "code",
   "execution_count": 280,
   "metadata": {},
   "outputs": [],
   "source": [
    "epochs = 5000\n",
    "lr = 0.01\n",
    "W_s = np.zeros((X.shape[1] , 1))\n",
    "\n",
    "for i in range(epochs):\n",
    "    prev = W_s\n",
    "    Y = np.matmul(S, W_s)\n",
    "    D_j = sum((Y - y_s) * S).reshape(X.shape[1], 1) / m\n",
    "    W_s = prev - (lr * D_j)\n",
    "    \n",
    "    diff = np.linalg.norm(prev - W_s)\n",
    "    if (diff > 100):\n",
    "        print(\"Muy grande\", i)\n",
    "        break\n",
    "    if (diff < .00001):\n",
    "        print(\"Convergió.\", i)\n",
    "        break"
   ]
  },
  {
   "cell_type": "code",
   "execution_count": 281,
   "metadata": {},
   "outputs": [
    {
     "data": {
      "image/png": "[encoded data removed]",
      "text/plain": [
       "<Figure size 432x288 with 1 Axes>"
      ]
     },
     "metadata": {
      "needs_background": "light"
     },
     "output_type": "display_data"
    },
    {
     "data": {
      "image/png": "[encoded data removed]",
      "text/plain": [
       "<Figure size 432x288 with 1 Axes>"
      ]
     },
     "metadata": {
      "needs_background": "light"
     },
     "output_type": "display_data"
    }
   ],
   "source": [
    "#no las pude gráficar juntas por los diferentes tamaños en el axis x\n",
    "plt.scatter(np.matmul(X, W), y, c=\"g\")\n",
    "plt.show()\n",
    "plt.scatter(np.matmul(S, W_s), y_s, c=\"r\")\n",
    "plt.show()"
   ]
  },
  {
   "cell_type": "markdown",
   "metadata": {},
   "source": [
    "### Métrica de error"
   ]
  },
  {
   "cell_type": "code",
   "execution_count": 282,
   "metadata": {},
   "outputs": [
    {
     "name": "stdout",
     "output_type": "stream",
     "text": [
      "8751.820875294594 0.0017079350048282795\n"
     ]
    }
   ],
   "source": [
    "error=mean_squared_error(y, np.matmul(X, W))\n",
    "error_s=mean_squared_error(y_s, np.matmul(S, W_s))\n",
    "print(error, error_s)"
   ]
  }
 ],
 "metadata": {
  "kernelspec": {
   "display_name": "Python 3 (ipykernel)",
   "language": "python",
   "name": "python3"
  },
  "language_info": {
   "codemirror_mode": {
    "name": "ipython",
    "version": 3
   },
   "file_extension": ".py",
   "mimetype": "text/x-python",
   "name": "python",
   "nbconvert_exporter": "python",
   "pygments_lexer": "ipython3",
   "version": "3.9.7"
  }
 },
 "nbformat": 4,
 "nbformat_minor": 4
}
